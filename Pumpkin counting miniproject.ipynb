{
 "cells": [
  {
   "attachments": {},
   "cell_type": "markdown",
   "metadata": {},
   "source": [
    "# 3.1 Colour based segmentation\n",
    "This part consists of using colour based information\n",
    "to segment individual images from a pumpkin field.\n",
    "The segmented images should end up having a black\n",
    "background with smaller white objects on top."
   ]
  },
  {
   "attachments": {},
   "cell_type": "markdown",
   "metadata": {},
   "source": [
    "## Exercise 3.1.1\n",
    "Annotate some pumpkins in a test image and extract information about the average pumpkin colour\n",
    "in the annotated pixels. Calculate both mean value\n",
    "and standard variation. Use the following two colour\n",
    "spaces: RGB and CieLAB. Finally try to visualise\n",
    "the distribution of colour values."
   ]
  },
  {
   "cell_type": "code",
   "execution_count": null,
   "metadata": {},
   "outputs": [],
   "source": []
  },
  {
   "attachments": {},
   "cell_type": "markdown",
   "metadata": {},
   "source": [
    "## Exercise 3.1.2\n",
    "Segment the orange pumpkins from the background\n",
    "using color information. Experiment with the following segmentation methods\n",
    "1. inRange with RGB values\n",
    "2. inRange with CieLAB values\n",
    "3. Distance in RGB space to a reference colour\n",
    "4. (HLS)"
   ]
  },
  {
   "cell_type": "code",
   "execution_count": null,
   "metadata": {},
   "outputs": [],
   "source": []
  },
  {
   "attachments": {},
   "cell_type": "markdown",
   "metadata": {},
   "source": [
    "## Exercise 3.1.3\n",
    "Choose one segmentation method to use for the rest\n",
    "of the mini-project."
   ]
  },
  {
   "cell_type": "code",
   "execution_count": null,
   "metadata": {},
   "outputs": [],
   "source": []
  },
  {
   "attachments": {},
   "cell_type": "markdown",
   "metadata": {},
   "source": [
    "# 3.2 Counting objects\n",
    "This part is about counting objects in segmented\n",
    "images and then to generate some visual output that\n",
    "will help you to debug the programs."
   ]
  },
  {
   "attachments": {},
   "cell_type": "markdown",
   "metadata": {},
   "source": [
    "## Exercise 3.2.1\n",
    "Count the number of orange blobs in the segmented\n",
    "image."
   ]
  },
  {
   "attachments": {},
   "cell_type": "markdown",
   "metadata": {},
   "source": [
    "## Exercise 3.2.2\n",
    "Filter the segmented image to remove noise."
   ]
  },
  {
   "attachments": {},
   "cell_type": "markdown",
   "metadata": {},
   "source": [
    "## Exercise 3.2.3\n",
    "Count the number of orange blobs in the filtered image."
   ]
  },
  {
   "attachments": {},
   "cell_type": "markdown",
   "metadata": {},
   "source": [
    "## Exercise 3.2.4\n",
    "Mark the located pumpkins in the input image. This\n",
    "step is for debugging purposes and to convince others\n",
    "that you have counted the pumpkins accurately."
   ]
  },
  {
   "attachments": {},
   "cell_type": "markdown",
   "metadata": {},
   "source": [
    "# 3.3 Generate an orthomosaic\n",
    "This part deals with orthorectifying multiple images\n",
    "of the same field into a single carthometric product.\n",
    "Choose proper settings for all below processes, taking into consideration the available computing resources"
   ]
  },
  {
   "attachments": {},
   "cell_type": "markdown",
   "metadata": {},
   "source": [
    "## Exercise 3.3.1\n",
    "Load data into Metashape."
   ]
  },
  {
   "attachments": {},
   "cell_type": "markdown",
   "metadata": {},
   "source": [
    "## Exercise 3.3.2\n",
    "Perform bundle adjustment (align photos) and check\n",
    "results"
   ]
  },
  {
   "attachments": {},
   "cell_type": "markdown",
   "metadata": {},
   "source": [
    "## Exercise 3.3.3\n",
    "Perform dense reconstruction"
   ]
  },
  {
   "attachments": {},
   "cell_type": "markdown",
   "metadata": {},
   "source": [
    "## Exercise 3.3.4\n",
    "Create digital elevation model"
   ]
  },
  {
   "attachments": {},
   "cell_type": "markdown",
   "metadata": {},
   "source": [
    "## Exercise 3.3.5\n",
    "Create orthomosaic"
   ]
  },
  {
   "attachments": {},
   "cell_type": "markdown",
   "metadata": {},
   "source": [
    "## Exercise 3.3.6\n",
    "Limit orthomosaic to pumpkin field"
   ]
  },
  {
   "attachments": {},
   "cell_type": "markdown",
   "metadata": {},
   "source": [
    "# 3.4 Count in orthomosaic\n",
    "Use the python package rasterio to perform operations on the orthomosaic using a tile based approach."
   ]
  },
  {
   "attachments": {},
   "cell_type": "markdown",
   "metadata": {},
   "source": [
    "## Exercise 3.4.1\n",
    "Create code that only loads parts of the orthomosaic."
   ]
  },
  {
   "attachments": {},
   "cell_type": "markdown",
   "metadata": {},
   "source": [
    "## Exercise 3.4.2\n",
    "Design tile placement incl. overlaps."
   ]
  },
  {
   "attachments": {},
   "cell_type": "markdown",
   "metadata": {},
   "source": [
    "## Exercise 3.4.3\n",
    "Count pumpkins in each tile."
   ]
  },
  {
   "attachments": {},
   "cell_type": "markdown",
   "metadata": {},
   "source": [
    "## Exercise 3.4.4\n",
    "Deal with pumpkins in the overlap, so they are only\n",
    "counted once."
   ]
  },
  {
   "attachments": {},
   "cell_type": "markdown",
   "metadata": {},
   "source": [
    "## Exercise 3.4.5\n",
    "Determine amount of pumpkins in the entire field"
   ]
  },
  {
   "attachments": {},
   "cell_type": "markdown",
   "metadata": {},
   "source": [
    "# 3.5 Endnotes\n",
    "Reflect on the conducted work in this miniproject."
   ]
  },
  {
   "attachments": {},
   "cell_type": "markdown",
   "metadata": {},
   "source": [
    "## Exercise 3.5.1\n",
    "Determine GSD and size of the image field. What is\n",
    "the average number of pumpkins per area?"
   ]
  },
  {
   "attachments": {},
   "cell_type": "markdown",
   "metadata": {},
   "source": [
    "## Exercise 3.5.2\n",
    "Reflect on whether the developed system is ready to\n",
    "help a farmer with the task of estimating the number\n",
    "of pumpkins in a field."
   ]
  }
 ],
 "metadata": {
  "language_info": {
   "name": "python"
  },
  "orig_nbformat": 4
 },
 "nbformat": 4,
 "nbformat_minor": 2
}
