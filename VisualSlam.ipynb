{
 "cells": [
  {
   "attachments": {},
   "cell_type": "markdown",
   "metadata": {},
   "source": [
    "# Visual Slam Mini Project"
   ]
  },
  {
   "attachments": {},
   "cell_type": "markdown",
   "metadata": {},
   "source": [
    "### Exercise 9.1.2 Extracting every n-th frame from a video"
   ]
  },
  {
   "cell_type": "code",
   "execution_count": 16,
   "metadata": {},
   "outputs": [
    {
     "name": "stdout",
     "output_type": "stream",
     "text": [
      "ja\n",
      "ja\n",
      "ja\n",
      "ja\n",
      "ja\n",
      "ja\n",
      "ja\n",
      "ja\n",
      "ja\n",
      "ja\n",
      "ja\n",
      "ja\n",
      "ja\n",
      "ja\n",
      "ja\n",
      "ja\n",
      "ja\n",
      "ja\n",
      "ja\n",
      "ja\n",
      "ja\n"
     ]
    }
   ],
   "source": [
    "import cv2\n",
    "import numpy as np\n",
    "\n",
    "# Frame iterator from Henrik Midtiby\n",
    "class FrameIterator():\n",
    "    def __init__(self, filename,frac=50):\n",
    "        self.cap = cv2.VideoCapture(filename)\n",
    "        self.frac = frac\n",
    "\n",
    "    \n",
    "    def frame_generator(self):\n",
    "        # Define a generator that yields frames from the video\n",
    "        count = -1\n",
    "        while(1):\n",
    "            count += 1\n",
    "            ret, frame = self.cap.read()\n",
    "            if ret is not True:\n",
    "                break\n",
    "            elif count % self.frac==0:\n",
    "                yield frame\n",
    "            \n",
    "        self.cap.release()\n",
    "\n",
    "    def main(self):\n",
    "        for frame in self.frame_generator():\n",
    "            # Process frame\n",
    "            cv2.imshow('frame',frame)\n",
    "\n",
    "            # Deal with key presses\n",
    "            k = cv2.waitKey(30) & 0xff\n",
    "            if k == 27:\n",
    "                break\n",
    "            elif k == ord('s'):\n",
    "                cv2.imwrite(\"../output/ex00_stillimage.png\", frame)\n",
    "\n",
    "\n",
    "\n",
    "fi = FrameIterator(\"/home/erik/Documents/SDU/Courses/LSDP/mini_project_1/Large-scale_Drone_Perception/input/DJI_0199.MOV\")\n",
    "fi.main()"
   ]
  }
 ],
 "metadata": {
  "kernelspec": {
   "display_name": "Python 3",
   "language": "python",
   "name": "python3"
  },
  "language_info": {
   "codemirror_mode": {
    "name": "ipython",
    "version": 3
   },
   "file_extension": ".py",
   "mimetype": "text/x-python",
   "name": "python",
   "nbconvert_exporter": "python",
   "pygments_lexer": "ipython3",
   "version": "3.8.10"
  },
  "orig_nbformat": 4
 },
 "nbformat": 4,
 "nbformat_minor": 2
}
