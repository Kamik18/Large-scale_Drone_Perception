{
 "cells": [
  {
   "attachments": {},
   "cell_type": "markdown",
   "metadata": {},
   "source": [
    "# Visual Slam Mini Project"
   ]
  },
  {
   "attachments": {},
   "cell_type": "markdown",
   "metadata": {},
   "source": [
    "### Exercise 9.1.2 Extracting every n-th frame from a video"
   ]
  },
  {
   "cell_type": "code",
   "execution_count": 8,
   "metadata": {},
   "outputs": [
    {
     "name": "stdout",
     "output_type": "stream",
     "text": [
      "../output/frame0.jpg <class 'numpy.ndarray'>\n",
      "../output/frame1.jpg <class 'numpy.ndarray'>\n",
      "../output/frame2.jpg <class 'numpy.ndarray'>\n",
      "../output/frame3.jpg <class 'numpy.ndarray'>\n",
      "../output/frame4.jpg <class 'numpy.ndarray'>\n",
      "../output/frame5.jpg <class 'numpy.ndarray'>\n",
      "../output/frame6.jpg <class 'numpy.ndarray'>\n",
      "../output/frame7.jpg <class 'numpy.ndarray'>\n",
      "../output/frame8.jpg <class 'numpy.ndarray'>\n",
      "../output/frame9.jpg <class 'numpy.ndarray'>\n",
      "../output/frame10.jpg <class 'numpy.ndarray'>\n",
      "../output/frame11.jpg <class 'numpy.ndarray'>\n",
      "../output/frame12.jpg <class 'numpy.ndarray'>\n",
      "../output/frame13.jpg <class 'numpy.ndarray'>\n",
      "../output/frame14.jpg <class 'numpy.ndarray'>\n",
      "../output/frame15.jpg <class 'numpy.ndarray'>\n",
      "../output/frame16.jpg <class 'numpy.ndarray'>\n",
      "../output/frame17.jpg <class 'numpy.ndarray'>\n",
      "../output/frame18.jpg <class 'numpy.ndarray'>\n",
      "../output/frame19.jpg <class 'numpy.ndarray'>\n",
      "../output/frame20.jpg <class 'numpy.ndarray'>\n",
      "../output/frame21.jpg <class 'numpy.ndarray'>\n",
      "../output/frame22.jpg <class 'numpy.ndarray'>\n",
      "../output/frame23.jpg <class 'numpy.ndarray'>\n",
      "../output/frame24.jpg <class 'numpy.ndarray'>\n"
     ]
    },
    {
     "ename": "KeyboardInterrupt",
     "evalue": "",
     "output_type": "error",
     "traceback": [
      "\u001b[0;31m---------------------------------------------------------------------------\u001b[0m",
      "\u001b[0;31mKeyboardInterrupt\u001b[0m                         Traceback (most recent call last)",
      "Cell \u001b[0;32mIn[8], line 48\u001b[0m\n\u001b[1;32m     42\u001b[0m                 \u001b[39mprint\u001b[39m(name,\u001b[39mtype\u001b[39m(frame))\n\u001b[1;32m     47\u001b[0m fi \u001b[39m=\u001b[39m FrameIterator(\u001b[39m\"\u001b[39m\u001b[39m/home/erik/Documents/SDU/Courses/LSDP/mini_project_1/Large-scale_Drone_Perception/input/DJI_0199.MOV\u001b[39m\u001b[39m\"\u001b[39m)\n\u001b[0;32m---> 48\u001b[0m fi\u001b[39m.\u001b[39;49mextract_images()\n",
      "Cell \u001b[0;32mIn[8], line 37\u001b[0m, in \u001b[0;36mFrameIterator.extract_images\u001b[0;34m(self, frac)\u001b[0m\n\u001b[1;32m     35\u001b[0m \u001b[39mdef\u001b[39;00m \u001b[39mextract_images\u001b[39m(\u001b[39mself\u001b[39m,frac\u001b[39m=\u001b[39m\u001b[39m50\u001b[39m):\n\u001b[1;32m     36\u001b[0m     count \u001b[39m=\u001b[39m \u001b[39m-\u001b[39m\u001b[39m1\u001b[39m\n\u001b[0;32m---> 37\u001b[0m     \u001b[39mfor\u001b[39;00m frame \u001b[39min\u001b[39;00m \u001b[39mself\u001b[39m\u001b[39m.\u001b[39mframe_generator():\n\u001b[1;32m     38\u001b[0m         count \u001b[39m+\u001b[39m\u001b[39m=\u001b[39m \u001b[39m1\u001b[39m\n\u001b[1;32m     39\u001b[0m         \u001b[39mif\u001b[39;00m count \u001b[39m%\u001b[39m frac \u001b[39m==\u001b[39m \u001b[39m0\u001b[39m:\n",
      "Cell \u001b[0;32mIn[8], line 15\u001b[0m, in \u001b[0;36mFrameIterator.frame_generator\u001b[0;34m(self)\u001b[0m\n\u001b[1;32m     13\u001b[0m \u001b[39mwhile\u001b[39;00m(\u001b[39m1\u001b[39m):\n\u001b[1;32m     14\u001b[0m     count \u001b[39m+\u001b[39m\u001b[39m=\u001b[39m \u001b[39m1\u001b[39m\n\u001b[0;32m---> 15\u001b[0m     ret, frame \u001b[39m=\u001b[39m \u001b[39mself\u001b[39;49m\u001b[39m.\u001b[39;49mcap\u001b[39m.\u001b[39;49mread()\n\u001b[1;32m     16\u001b[0m     \u001b[39mif\u001b[39;00m ret \u001b[39mis\u001b[39;00m \u001b[39mnot\u001b[39;00m \u001b[39mTrue\u001b[39;00m:\n\u001b[1;32m     17\u001b[0m         \u001b[39mbreak\u001b[39;00m\n",
      "\u001b[0;31mKeyboardInterrupt\u001b[0m: "
     ]
    }
   ],
   "source": [
    "import cv2\n",
    "import numpy as np\n",
    "\n",
    "# Frame iterator from Henrik Midtiby\n",
    "class FrameIterator():\n",
    "    def __init__(self, filename):\n",
    "        self.cap = cv2.VideoCapture(filename)\n",
    "\n",
    "    \n",
    "    def frame_generator(self):\n",
    "        # Define a generator that yields frames from the video\n",
    "        count = -1\n",
    "        while(1):\n",
    "            count += 1\n",
    "            ret, frame = self.cap.read()\n",
    "            if ret is not True:\n",
    "                break\n",
    "            else:\n",
    "                yield frame\n",
    "            \n",
    "        self.cap.release()\n",
    "\n",
    "    def main(self):\n",
    "        for frame in self.frame_generator():\n",
    "            # Process frame\n",
    "            cv2.imshow('frame',frame)\n",
    "\n",
    "            # Deal with key presses\n",
    "            k = cv2.waitKey(30) & 0xff\n",
    "            if k == 27:\n",
    "                break\n",
    "            elif k == ord('s'):\n",
    "                cv2.imwrite(\"../output/ex00_stillimage.png\", frame)\n",
    "\n",
    "    def extract_images(self,frac=50):\n",
    "        count = -1\n",
    "        for frame in self.frame_generator():\n",
    "            count += 1\n",
    "            if count % frac == 0:\n",
    "                name = \"../output/frame%d.jpg\" % (count/frac)\n",
    "                cv2.imwrite(name, frame)\n",
    "                #print(name,type(frame))\n",
    "    \n",
    "\n",
    "\n",
    "\n",
    "fi = FrameIterator(\"/home/erik/Documents/SDU/Courses/LSDP/mini_project_1/Large-scale_Drone_Perception/input/DJI_0199.MOV\")\n",
    "fi.extract_images()"
   ]
  }
 ],
 "metadata": {
  "kernelspec": {
   "display_name": "Python 3",
   "language": "python",
   "name": "python3"
  },
  "language_info": {
   "codemirror_mode": {
    "name": "ipython",
    "version": 3
   },
   "file_extension": ".py",
   "mimetype": "text/x-python",
   "name": "python",
   "nbconvert_exporter": "python",
   "pygments_lexer": "ipython3",
   "version": "3.8.10"
  },
  "orig_nbformat": 4
 },
 "nbformat": 4,
 "nbformat_minor": 2
}
