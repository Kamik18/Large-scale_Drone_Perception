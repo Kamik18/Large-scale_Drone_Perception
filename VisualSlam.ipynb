{
 "cells": [
  {
   "attachments": {},
   "cell_type": "markdown",
   "metadata": {},
   "source": [
    "# Visual Slam Mini Project"
   ]
  },
  {
   "attachments": {},
   "cell_type": "markdown",
   "metadata": {},
   "source": [
    "### Exercise 9.1.2 Extracting every n-th frame from a video"
   ]
  },
  {
   "cell_type": "code",
   "execution_count": 9,
   "metadata": {},
   "outputs": [
    {
     "ename": "KeyboardInterrupt",
     "evalue": "",
     "output_type": "error",
     "traceback": [
      "\u001b[0;31m---------------------------------------------------------------------------\u001b[0m",
      "\u001b[0;31mKeyboardInterrupt\u001b[0m                         Traceback (most recent call last)",
      "Cell \u001b[0;32mIn[9], line 48\u001b[0m\n\u001b[1;32m     42\u001b[0m                 \u001b[39m#print(name,type(frame))\u001b[39;00m\n\u001b[1;32m     47\u001b[0m fi \u001b[39m=\u001b[39m FrameIterator(\u001b[39m\"\u001b[39m\u001b[39m/home/erik/Documents/SDU/Courses/LSDP/mini_project_1/Large-scale_Drone_Perception/input/DJI_0199.MOV\u001b[39m\u001b[39m\"\u001b[39m)\n\u001b[0;32m---> 48\u001b[0m fi\u001b[39m.\u001b[39;49mextract_images()\n",
      "Cell \u001b[0;32mIn[9], line 41\u001b[0m, in \u001b[0;36mFrameIterator.extract_images\u001b[0;34m(self, frac)\u001b[0m\n\u001b[1;32m     39\u001b[0m \u001b[39mif\u001b[39;00m count \u001b[39m%\u001b[39m frac \u001b[39m==\u001b[39m \u001b[39m0\u001b[39m:\n\u001b[1;32m     40\u001b[0m     name \u001b[39m=\u001b[39m \u001b[39m\"\u001b[39m\u001b[39m./output/frame\u001b[39m\u001b[39m%d\u001b[39;00m\u001b[39m.jpg\u001b[39m\u001b[39m\"\u001b[39m \u001b[39m%\u001b[39m (count\u001b[39m/\u001b[39mfrac)\n\u001b[0;32m---> 41\u001b[0m     cv2\u001b[39m.\u001b[39;49mimwrite(name, frame)\n",
      "\u001b[0;31mKeyboardInterrupt\u001b[0m: "
     ]
    }
   ],
   "source": [
    "import cv2\n",
    "import numpy as np\n",
    "\n",
    "# Frame iterator from Henrik Midtiby\n",
    "class FrameIterator():\n",
    "    def __init__(self, filename):\n",
    "        self.cap = cv2.VideoCapture(filename)\n",
    "\n",
    "    \n",
    "    def frame_generator(self):\n",
    "        # Define a generator that yields frames from the video\n",
    "        count = -1\n",
    "        while(1):\n",
    "            count += 1\n",
    "            ret, frame = self.cap.read()\n",
    "            if ret is not True:\n",
    "                break\n",
    "            else:\n",
    "                yield frame\n",
    "            \n",
    "        self.cap.release()\n",
    "\n",
    "    def main(self):\n",
    "        for frame in self.frame_generator():\n",
    "            # Process frame\n",
    "            cv2.imshow('frame',frame)\n",
    "\n",
    "            # Deal with key presses\n",
    "            k = cv2.waitKey(30) & 0xff\n",
    "            if k == 27:\n",
    "                break\n",
    "            elif k == ord('s'):\n",
    "                cv2.imwrite(\"../output/ex00_stillimage.png\", frame)\n",
    "\n",
    "    def extract_images(self,frac=100):\n",
    "        count = -1\n",
    "        for frame in self.frame_generator():\n",
    "            count += 1\n",
    "            # save every 100th frame and disregard the first 1200 frames\n",
    "            if count % frac == 0 and count > 1200:\n",
    "                name = \"./output/frame%d.jpg\" % (count/frac) \n",
    "                cv2.imwrite(name, frame)\n",
    "                #print(name,type(frame))\n",
    "    \n",
    "\n",
    "\n",
    "\n",
    "fi = FrameIterator(\"/home/erik/Documents/SDU/Courses/LSDP/mini_project_1/Large-scale_Drone_Perception/input/DJI_0199.MOV\")\n",
    "fi.extract_images()"
   ]
  }
 ],
 "metadata": {
  "kernelspec": {
   "display_name": "Python 3",
   "language": "python",
   "name": "python3"
  },
  "language_info": {
   "codemirror_mode": {
    "name": "ipython",
    "version": 3
   },
   "file_extension": ".py",
   "mimetype": "text/x-python",
   "name": "python",
   "nbconvert_exporter": "python",
   "pygments_lexer": "ipython3",
   "version": "3.8.10"
  },
  "orig_nbformat": 4
 },
 "nbformat": 4,
 "nbformat_minor": 2
}
